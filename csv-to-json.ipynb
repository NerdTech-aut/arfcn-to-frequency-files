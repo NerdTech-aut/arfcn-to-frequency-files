{
 "cells": [
  {
   "cell_type": "code",
   "execution_count": null,
   "id": "1804d2b8",
   "metadata": {},
   "outputs": [],
   "source": [
    "import csv\n",
    "import json"
   ]
  },
  {
   "cell_type": "code",
   "execution_count": null,
   "id": "da8d10d9",
   "metadata": {},
   "outputs": [],
   "source": [
    "with open('NR_operating_bands_frequencies_duplex-types_arfcn-numbers.csv', 'r') as csvfile:\n",
    "    data = list(csv.DictReader(csvfile, delimiter=';'))\n",
    "    with open('NR_operating_bands_frequencies_duplex-types_arfcn-numbers.json', 'w') as jsonfile:\n",
    "        json.dump(data, jsonfile, indent=4)"
   ]
  },
  {
   "cell_type": "code",
   "execution_count": null,
   "id": "78c75e3f",
   "metadata": {},
   "outputs": [],
   "source": [
    "with open('NR-ARFCN_parameters_for_the_global_frequency_raster.csv', 'r') as csvfile:\n",
    "    data = list(csv.DictReader(csvfile, delimiter=';'))\n",
    "    with open('NR-ARFCN_parameters_for_the_global_frequency_raster.json', 'w') as jsonfile:\n",
    "        json.dump(data, jsonfile, indent=4)"
   ]
  },
  {
   "cell_type": "code",
   "execution_count": null,
   "id": "9f798dea",
   "metadata": {},
   "outputs": [],
   "source": [
    "with open('EUTRA_operating_bands_frequencies_arfcn-numbers.csv', 'r') as csvfile:\n",
    "    data = list(csv.DictReader(csvfile, delimiter=';'))\n",
    "    with open('EUTRA_operating_bands_frequencies_arfcn-numbers.json', 'w') as jsonfile:\n",
    "        json.dump(data, jsonfile, indent=4)"
   ]
  }
 ],
 "metadata": {
  "kernelspec": {
   "display_name": "Python 3",
   "language": "python",
   "name": "python3"
  },
  "language_info": {
   "name": "python",
   "version": "3.12.2"
  }
 },
 "nbformat": 4,
 "nbformat_minor": 5
}
